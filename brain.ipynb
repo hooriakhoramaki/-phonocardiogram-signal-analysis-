{
  "nbformat": 4,
  "nbformat_minor": 0,
  "metadata": {
    "colab": {
      "provenance": [],
      "gpuType": "T4",
      "authorship_tag": "ABX9TyOPDz0rIwgf0y5WLFKjqEgm",
      "include_colab_link": true
    },
    "kernelspec": {
      "name": "python3",
      "display_name": "Python 3"
    },
    "language_info": {
      "name": "python"
    },
    "accelerator": "GPU"
  },
  "cells": [
    {
      "cell_type": "markdown",
      "metadata": {
        "id": "view-in-github",
        "colab_type": "text"
      },
      "source": [
        "<a href=\"https://colab.research.google.com/github/hooriakhoramaki/-phonocardiogram-signal-analysis-/blob/main/brain.ipynb\" target=\"_parent\"><img src=\"https://colab.research.google.com/assets/colab-badge.svg\" alt=\"Open In Colab\"/></a>"
      ]
    },
    {
      "cell_type": "code",
      "execution_count": 1,
      "metadata": {
        "id": "PzXl5A9fTP3x"
      },
      "outputs": [],
      "source": [
        "import numpy as np\n",
        "import matplotlib.pyplot as plt\n",
        "from tqdm import tqdm\n",
        "import cv2\n",
        "import os\n",
        "import seaborn as sns\n",
        "import tensorflow as tf\n",
        "os.environ['TF_CPP_MIN_LOG_LEVEL'] = '3'\n",
        "\n",
        "from keras.models import Sequential, Model\n",
        "from keras.layers import Dense, Flatten, Conv2D, Reshape, Input, Conv2DTranspose\n",
        "from keras.layers import Activation, LeakyReLU, BatchNormalization, Dropout, Resizing\n",
        "from keras.losses import BinaryCrossentropy\n",
        "from tensorflow.keras.applications import VGG16\n",
        "\n",
        "import warnings\n",
        "warnings.filterwarnings('ignore')\n",
        "\n",
        "try:\n",
        "    from tensorflow.keras.optimizers import Adam\n",
        "except:\n",
        "    from keras.optimizers import Adam\n",
        "\n",
        "\n",
        "NOISE_DIM = 100\n",
        "BATCH_SIZE = 4\n",
        "STEPS_PER_EPOCH = 3750\n",
        "EPOCHS = 10\n",
        "SEED = 40\n",
        "WIDTH, HEIGHT, CHANNELS = 128, 128, 1\n",
        "\n",
        "OPTIMIZER = Adam(0.0002, 0.5)"
      ]
    },
    {
      "cell_type": "code",
      "source": [
        "from google.colab import files\n",
        "import zipfile\n",
        "uploaded = files.upload()\n",
        "uploaded_filename = next(iter(uploaded))\n",
        "with zipfile.ZipFile(uploaded_filename, 'r') as zip_ref:\n",
        "    zip_ref.extractall('/content/data')\n",
        "path=('/content/data/brain-mri-images-for-brain-tumor-detection/yes')\n",
        "\n",
        "\n"
      ],
      "metadata": {
        "colab": {
          "base_uri": "https://localhost:8080/",
          "height": 38
        },
        "id": "wbt9NJSaUac2",
        "outputId": "7a4c1bd4-ffb3-4376-cf62-6915b1dc1422"
      },
      "execution_count": null,
      "outputs": [
        {
          "data": {
            "text/html": [
              "\n",
              "     <input type=\"file\" id=\"files-1d0584ac-2d14-4d23-ad76-b607c7779b59\" name=\"files[]\" multiple disabled\n",
              "        style=\"border:none\" />\n",
              "     <output id=\"result-1d0584ac-2d14-4d23-ad76-b607c7779b59\">\n",
              "      Upload widget is only available when the cell has been executed in the\n",
              "      current browser session. Please rerun this cell to enable.\n",
              "      </output>\n",
              "      <script>// Copyright 2017 Google LLC\n",
              "//\n",
              "// Licensed under the Apache License, Version 2.0 (the \"License\");\n",
              "// you may not use this file except in compliance with the License.\n",
              "// You may obtain a copy of the License at\n",
              "//\n",
              "//      http://www.apache.org/licenses/LICENSE-2.0\n",
              "//\n",
              "// Unless required by applicable law or agreed to in writing, software\n",
              "// distributed under the License is distributed on an \"AS IS\" BASIS,\n",
              "// WITHOUT WARRANTIES OR CONDITIONS OF ANY KIND, either express or implied.\n",
              "// See the License for the specific language governing permissions and\n",
              "// limitations under the License.\n",
              "\n",
              "/**\n",
              " * @fileoverview Helpers for google.colab Python module.\n",
              " */\n",
              "(function(scope) {\n",
              "function span(text, styleAttributes = {}) {\n",
              "  const element = document.createElement('span');\n",
              "  element.textContent = text;\n",
              "  for (const key of Object.keys(styleAttributes)) {\n",
              "    element.style[key] = styleAttributes[key];\n",
              "  }\n",
              "  return element;\n",
              "}\n",
              "\n",
              "// Max number of bytes which will be uploaded at a time.\n",
              "const MAX_PAYLOAD_SIZE = 100 * 1024;\n",
              "\n",
              "function _uploadFiles(inputId, outputId) {\n",
              "  const steps = uploadFilesStep(inputId, outputId);\n",
              "  const outputElement = document.getElementById(outputId);\n",
              "  // Cache steps on the outputElement to make it available for the next call\n",
              "  // to uploadFilesContinue from Python.\n",
              "  outputElement.steps = steps;\n",
              "\n",
              "  return _uploadFilesContinue(outputId);\n",
              "}\n",
              "\n",
              "// This is roughly an async generator (not supported in the browser yet),\n",
              "// where there are multiple asynchronous steps and the Python side is going\n",
              "// to poll for completion of each step.\n",
              "// This uses a Promise to block the python side on completion of each step,\n",
              "// then passes the result of the previous step as the input to the next step.\n",
              "function _uploadFilesContinue(outputId) {\n",
              "  const outputElement = document.getElementById(outputId);\n",
              "  const steps = outputElement.steps;\n",
              "\n",
              "  const next = steps.next(outputElement.lastPromiseValue);\n",
              "  return Promise.resolve(next.value.promise).then((value) => {\n",
              "    // Cache the last promise value to make it available to the next\n",
              "    // step of the generator.\n",
              "    outputElement.lastPromiseValue = value;\n",
              "    return next.value.response;\n",
              "  });\n",
              "}\n",
              "\n",
              "/**\n",
              " * Generator function which is called between each async step of the upload\n",
              " * process.\n",
              " * @param {string} inputId Element ID of the input file picker element.\n",
              " * @param {string} outputId Element ID of the output display.\n",
              " * @return {!Iterable<!Object>} Iterable of next steps.\n",
              " */\n",
              "function* uploadFilesStep(inputId, outputId) {\n",
              "  const inputElement = document.getElementById(inputId);\n",
              "  inputElement.disabled = false;\n",
              "\n",
              "  const outputElement = document.getElementById(outputId);\n",
              "  outputElement.innerHTML = '';\n",
              "\n",
              "  const pickedPromise = new Promise((resolve) => {\n",
              "    inputElement.addEventListener('change', (e) => {\n",
              "      resolve(e.target.files);\n",
              "    });\n",
              "  });\n",
              "\n",
              "  const cancel = document.createElement('button');\n",
              "  inputElement.parentElement.appendChild(cancel);\n",
              "  cancel.textContent = 'Cancel upload';\n",
              "  const cancelPromise = new Promise((resolve) => {\n",
              "    cancel.onclick = () => {\n",
              "      resolve(null);\n",
              "    };\n",
              "  });\n",
              "\n",
              "  // Wait for the user to pick the files.\n",
              "  const files = yield {\n",
              "    promise: Promise.race([pickedPromise, cancelPromise]),\n",
              "    response: {\n",
              "      action: 'starting',\n",
              "    }\n",
              "  };\n",
              "\n",
              "  cancel.remove();\n",
              "\n",
              "  // Disable the input element since further picks are not allowed.\n",
              "  inputElement.disabled = true;\n",
              "\n",
              "  if (!files) {\n",
              "    return {\n",
              "      response: {\n",
              "        action: 'complete',\n",
              "      }\n",
              "    };\n",
              "  }\n",
              "\n",
              "  for (const file of files) {\n",
              "    const li = document.createElement('li');\n",
              "    li.append(span(file.name, {fontWeight: 'bold'}));\n",
              "    li.append(span(\n",
              "        `(${file.type || 'n/a'}) - ${file.size} bytes, ` +\n",
              "        `last modified: ${\n",
              "            file.lastModifiedDate ? file.lastModifiedDate.toLocaleDateString() :\n",
              "                                    'n/a'} - `));\n",
              "    const percent = span('0% done');\n",
              "    li.appendChild(percent);\n",
              "\n",
              "    outputElement.appendChild(li);\n",
              "\n",
              "    const fileDataPromise = new Promise((resolve) => {\n",
              "      const reader = new FileReader();\n",
              "      reader.onload = (e) => {\n",
              "        resolve(e.target.result);\n",
              "      };\n",
              "      reader.readAsArrayBuffer(file);\n",
              "    });\n",
              "    // Wait for the data to be ready.\n",
              "    let fileData = yield {\n",
              "      promise: fileDataPromise,\n",
              "      response: {\n",
              "        action: 'continue',\n",
              "      }\n",
              "    };\n",
              "\n",
              "    // Use a chunked sending to avoid message size limits. See b/62115660.\n",
              "    let position = 0;\n",
              "    do {\n",
              "      const length = Math.min(fileData.byteLength - position, MAX_PAYLOAD_SIZE);\n",
              "      const chunk = new Uint8Array(fileData, position, length);\n",
              "      position += length;\n",
              "\n",
              "      const base64 = btoa(String.fromCharCode.apply(null, chunk));\n",
              "      yield {\n",
              "        response: {\n",
              "          action: 'append',\n",
              "          file: file.name,\n",
              "          data: base64,\n",
              "        },\n",
              "      };\n",
              "\n",
              "      let percentDone = fileData.byteLength === 0 ?\n",
              "          100 :\n",
              "          Math.round((position / fileData.byteLength) * 100);\n",
              "      percent.textContent = `${percentDone}% done`;\n",
              "\n",
              "    } while (position < fileData.byteLength);\n",
              "  }\n",
              "\n",
              "  // All done.\n",
              "  yield {\n",
              "    response: {\n",
              "      action: 'complete',\n",
              "    }\n",
              "  };\n",
              "}\n",
              "\n",
              "scope.google = scope.google || {};\n",
              "scope.google.colab = scope.google.colab || {};\n",
              "scope.google.colab._files = {\n",
              "  _uploadFiles,\n",
              "  _uploadFilesContinue,\n",
              "};\n",
              "})(self);\n",
              "</script> "
            ],
            "text/plain": [
              "<IPython.core.display.HTML object>"
            ]
          },
          "metadata": {},
          "output_type": "display_data"
        }
      ]
    },
    {
      "cell_type": "code",
      "source": [
        "def load_images(folder):\n",
        "\n",
        "    imgs = []\n",
        "    target = 1\n",
        "    labels = []\n",
        "    for i in os.listdir(folder):\n",
        "        img_dir = os.path.join(folder,i)\n",
        "        try:\n",
        "            img = cv2.imread(img_dir)\n",
        "            img = cv2.cvtColor(img, cv2.COLOR_BGR2GRAY)\n",
        "            img = cv2.resize(img, (128,128))\n",
        "            imgs.append(img)\n",
        "            labels.append(target)\n",
        "        except:\n",
        "            continue\n",
        "\n",
        "    imgs = np.array(imgs)\n",
        "    labels = np.array(labels)\n",
        "\n",
        "    return imgs, labels"
      ],
      "metadata": {
        "id": "LBhLgdBkTkoa"
      },
      "execution_count": 9,
      "outputs": []
    },
    {
      "cell_type": "code",
      "source": [
        "data, labels = load_images(path)\n",
        "data.shape, labels.shape"
      ],
      "metadata": {
        "colab": {
          "base_uri": "https://localhost:8080/"
        },
        "id": "UAOpyMSzTnpB",
        "outputId": "241d2a7a-7093-4a3a-ff32-01f854081f2d"
      },
      "execution_count": 10,
      "outputs": [
        {
          "output_type": "execute_result",
          "data": {
            "text/plain": [
              "((0,), (0,))"
            ]
          },
          "metadata": {},
          "execution_count": 10
        }
      ]
    },
    {
      "cell_type": "code",
      "source": [
        "np.random.seed(SEED)\n",
        "idxs = np.random.randint(0, 155, 20)"
      ],
      "metadata": {
        "id": "8OOaMTeyTp9f"
      },
      "execution_count": 6,
      "outputs": []
    },
    {
      "cell_type": "code",
      "source": [
        "X_train = data[idxs]\n",
        "X_train.shape"
      ],
      "metadata": {
        "colab": {
          "base_uri": "https://localhost:8080/",
          "height": 159
        },
        "id": "r0vxVHdGTtnM",
        "outputId": "6449a2c2-78e1-4ec7-86c3-1e6ee460de1f"
      },
      "execution_count": 7,
      "outputs": [
        {
          "output_type": "error",
          "ename": "IndexError",
          "evalue": "index 70 is out of bounds for axis 0 with size 0",
          "traceback": [
            "\u001b[0;31m---------------------------------------------------------------------------\u001b[0m",
            "\u001b[0;31mIndexError\u001b[0m                                Traceback (most recent call last)",
            "\u001b[0;32m<ipython-input-7-f25ac3559592>\u001b[0m in \u001b[0;36m<cell line: 0>\u001b[0;34m()\u001b[0m\n\u001b[0;32m----> 1\u001b[0;31m \u001b[0mX_train\u001b[0m \u001b[0;34m=\u001b[0m \u001b[0mdata\u001b[0m\u001b[0;34m[\u001b[0m\u001b[0midxs\u001b[0m\u001b[0;34m]\u001b[0m\u001b[0;34m\u001b[0m\u001b[0;34m\u001b[0m\u001b[0m\n\u001b[0m\u001b[1;32m      2\u001b[0m \u001b[0mX_train\u001b[0m\u001b[0;34m.\u001b[0m\u001b[0mshape\u001b[0m\u001b[0;34m\u001b[0m\u001b[0;34m\u001b[0m\u001b[0m\n",
            "\u001b[0;31mIndexError\u001b[0m: index 70 is out of bounds for axis 0 with size 0"
          ]
        }
      ]
    },
    {
      "cell_type": "code",
      "source": [
        "# Normalize the Images\n",
        "X_train = (X_train.astype(np.float32) - 127.5) / 127.5\n",
        "\n",
        "# Reshape images\n",
        "X_train = X_train.reshape(-1, WIDTH,HEIGHT,CHANNELS)\n",
        "\n",
        "# Check shape\n",
        "X_train.shape"
      ],
      "metadata": {
        "id": "vDq-gaBhTvnU"
      },
      "execution_count": null,
      "outputs": []
    },
    {
      "cell_type": "code",
      "source": [
        "plt.figure(figsize=(20,8))\n",
        "for i in range(10):\n",
        "    axs = plt.subplot(2,5,i+1)\n",
        "    plt.imshow(X_train[i], cmap=\"gray\")\n",
        "    plt.axis('off')\n",
        "    axs.set_xticklabels([])\n",
        "    axs.set_yticklabels([])\n",
        "    plt.subplots_adjust(wspace=None, hspace=None)\n",
        "plt.tight_layout()"
      ],
      "metadata": {
        "id": "COslK28VTxxm"
      },
      "execution_count": null,
      "outputs": []
    },
    {
      "cell_type": "code",
      "source": [
        "def build_generator():\n",
        "\n",
        "    \"\"\"\n",
        "        Generator model \"generates\" images using random noise. The random noise AKA Latent Vector\n",
        "        is sampled from a Normal Distribution which is given as the input to the Generator. Using\n",
        "        Transposed Convolution, the latent vector is transformed to produce an image\n",
        "        We use 3 Conv2DTranspose layers (which help in producing an image using features; opposite\n",
        "        of Convolutional Learning)\n",
        "\n",
        "        Input: Random Noise / Latent Vector\n",
        "        Output: Image\n",
        "    \"\"\"\n",
        "\n",
        "    model = Sequential([\n",
        "\n",
        "        Dense(32*32*256, input_dim=NOISE_DIM),\n",
        "        LeakyReLU(alpha=0.2),\n",
        "        Reshape((32,32,256)),\n",
        "\n",
        "        Conv2DTranspose(128, (4, 4), strides=2, padding='same'),\n",
        "        LeakyReLU(alpha=0.2),\n",
        "\n",
        "        Conv2DTranspose(128, (4, 4), strides=2, padding='same'),\n",
        "        LeakyReLU(alpha=0.2),\n",
        "\n",
        "        Conv2D(CHANNELS, (4, 4), padding='same', activation='tanh')\n",
        "    ],\n",
        "    name=\"generator\")\n",
        "    model.summary()\n",
        "    model.compile(loss=\"binary_crossentropy\", optimizer=OPTIMIZER)\n",
        "\n",
        "    return model"
      ],
      "metadata": {
        "id": "-2MHVZ_XTz7J"
      },
      "execution_count": null,
      "outputs": []
    },
    {
      "cell_type": "code",
      "source": [
        "def build_discriminator():\n",
        "\n",
        "    \"\"\"\n",
        "        Discriminator is the model which is responsible for classifying the generated images\n",
        "        as fake or real. Our end goal is to create a Generator so powerful that the Discriminator\n",
        "        is unable to classify real and fake images\n",
        "        A simple Convolutional Neural Network with 2 Conv2D layers connected to a Dense output layer\n",
        "        Output layer activation is Sigmoid since this is a Binary Classifier\n",
        "\n",
        "        Input: Generated / Real Image\n",
        "        Output: Validity of Image (Fake or Real)\n",
        "\n",
        "    \"\"\"\n",
        "\n",
        "    model = Sequential([\n",
        "\n",
        "        Conv2D(64, (3, 3), padding='same', input_shape=(WIDTH, HEIGHT, CHANNELS)),\n",
        "        LeakyReLU(alpha=0.2),\n",
        "\n",
        "        Conv2D(128, (3, 3), strides=2, padding='same'),\n",
        "        LeakyReLU(alpha=0.2),\n",
        "\n",
        "        Conv2D(128, (3, 3), strides=2, padding='same'),\n",
        "        LeakyReLU(alpha=0.2),\n",
        "\n",
        "        Conv2D(256, (3, 3), strides=2, padding='same'),\n",
        "        LeakyReLU(alpha=0.2),\n",
        "\n",
        "        Flatten(),\n",
        "        Dropout(0.4),\n",
        "        Dense(1, activation=\"sigmoid\", input_shape=(WIDTH, HEIGHT, CHANNELS))\n",
        "    ], name=\"discriminator\")\n",
        "    model.summary()\n",
        "    model.compile(loss=\"binary_crossentropy\",\n",
        "                        optimizer=OPTIMIZER)\n",
        "\n",
        "    return model"
      ],
      "metadata": {
        "id": "3XgXPnuOT2De"
      },
      "execution_count": null,
      "outputs": []
    },
    {
      "cell_type": "code",
      "source": [
        "print('\\n')\n",
        "discriminator = build_discriminator()\n",
        "print('\\n')\n",
        "generator = build_generator()\n",
        "\n",
        "discriminator.trainable = False\n",
        "\n",
        "gan_input = Input(shape=(NOISE_DIM,))\n",
        "fake_image = generator(gan_input)\n",
        "\n",
        "gan_output = discriminator(fake_image)\n",
        "\n",
        "gan = Model(gan_input, gan_output, name=\"gan_model\")\n",
        "gan.compile(loss=\"binary_crossentropy\", optimizer=OPTIMIZER)\n",
        "\n",
        "print(\"The Combined Network:\\n\")\n",
        "gan.summary()"
      ],
      "metadata": {
        "id": "Qqu7JISLT32S"
      },
      "execution_count": null,
      "outputs": []
    },
    {
      "cell_type": "code",
      "source": [
        "def sample_images(noise, subplots, figsize=(22,8), save=False):\n",
        "    generated_images = generator.predict(noise)\n",
        "    plt.figure(figsize=figsize)\n",
        "\n",
        "    for i, image in enumerate(generated_images):\n",
        "        plt.subplot(subplots[0], subplots[1], i+1)\n",
        "        if CHANNELS == 1:\n",
        "            plt.imshow(image.reshape((WIDTH, HEIGHT)), cmap='gray')\n",
        "\n",
        "        else:\n",
        "            plt.imshow(image.reshape((WIDTH, HEIGHT, CHANNELS)))\n",
        "        if save == True:\n",
        "            img_name = \"gen\" + str(i)\n",
        "            plt.savefig(img_name)\n",
        "        plt.subplots_adjust(wspace=None, hspace=None)\n",
        "        plt.axis('off')\n",
        "\n",
        "    plt.tight_layout()\n",
        "    plt.show()"
      ],
      "metadata": {
        "id": "nuwXRzt_T7us"
      },
      "execution_count": null,
      "outputs": []
    },
    {
      "cell_type": "code",
      "source": [
        "np.random.seed(SEED)\n",
        "for epoch in range(10):\n",
        "    for batch in tqdm(range(STEPS_PER_EPOCH)):\n",
        "\n",
        "        noise = np.random.normal(0,1, size=(BATCH_SIZE, NOISE_DIM))\n",
        "        fake_X = generator.predict(noise)\n",
        "\n",
        "        idx = np.random.randint(0, X_train.shape[0], size=BATCH_SIZE)\n",
        "        real_X = X_train[idx]\n",
        "\n",
        "        X = np.concatenate((real_X, fake_X))\n",
        "\n",
        "        disc_y = np.zeros(2*BATCH_SIZE)\n",
        "        disc_y[:BATCH_SIZE] = 1\n",
        "\n",
        "        d_loss = discriminator.train_on_batch(X, disc_y)\n",
        "\n",
        "        y_gen = np.ones(BATCH_SIZE)\n",
        "        g_loss = gan.train_on_batch(noise, y_gen)\n",
        "\n",
        "    print(f\"EPOCH: {epoch + 1} Generator Loss: {g_loss:.4f} Discriminator Loss: {d_loss:.4f}\")\n",
        "    noise = np.random.normal(0, 1, size=(10,NOISE_DIM))\n",
        "    sample_images(noise, (2,5))"
      ],
      "metadata": {
        "id": "mbVvrEo_T9tg"
      },
      "execution_count": null,
      "outputs": []
    },
    {
      "cell_type": "code",
      "source": [
        "noise = np.random.normal(0, 1, size=(100, NOISE_DIM))\n",
        "sample_images(noise, (10,10), (24,20), save=True)"
      ],
      "metadata": {
        "id": "nJnSBKS8UBOm"
      },
      "execution_count": null,
      "outputs": []
    },
    {
      "cell_type": "code",
      "source": [
        "generated_images = generator.predict(noise)\n",
        "generated_images.shape"
      ],
      "metadata": {
        "id": "1MtEc6s_UDAJ"
      },
      "execution_count": null,
      "outputs": []
    },
    {
      "cell_type": "code",
      "source": [
        "fig, axs = plt.subplots(ncols=1, nrows=1, figsize=(18,10))\n",
        "\n",
        "sns.distplot(X_train, label='Real Images', hist=True, color='#fc0328', ax=axs)\n",
        "sns.distplot(generated_images, label='Generated Images', hist=True, color='#0c06c7', ax=axs)\n",
        "\n",
        "axs.legend(loc='upper right', prop={'size': 12})\n",
        "\n",
        "plt.show()"
      ],
      "metadata": {
        "id": "hxBSm3K7UEsx"
      },
      "execution_count": null,
      "outputs": []
    }
  ]
}